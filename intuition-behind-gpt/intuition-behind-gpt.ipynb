{
 "cells": [
  {
   "cell_type": "markdown",
   "metadata": {},
   "source": [
    "Intuição de como o GPT funciona internamente:\n",
    "\n",
    "A arquitetura do gpt tem como base o decoder da arquitetura transformer, lado direito da imagem abaixo:\n",
    "\n",
    "<img src=\"https://miro.medium.com/v2/resize:fit:1400/1*Jwataw7ZYsHU0XvDA-jVqQ.png\" alt=\"Transformer\" width=\"30%\" height=\"30%\">\n",
    "\n",
    "O fato do GPT usar o decoder somente, é devido ao foco do GPT prever o próximo token apenas cruzando o ultimo token com todos os anteriores exatamente como o decoder faz.\n",
    "\n",
    "Para quem não esta por dentro do termo token, imagine os tokens como uma palavrao que é digitada pelo usuário na pergunta e cada palavra que é gerada na resposta pelo GPT.\n",
    "\n",
    "Cada token tem um id unico em um vocabulario de palavras.\n",
    "\n",
    "Na pratica vc defini o que é um token, ele pode ser uma subword como no GPT, exemplo para formar a palavra casamento poderia ser a junção de dois tokens (casa + mento), ou poderiamos ter um vocabulario estremamente simples e enxuto com apenas as letras do alfabeto + numeros + caracteres especiais, neste caso para escrever casamento seriam 9 tokens (c,a,s,a,m,e,n,t,o)\n",
    "\n",
    "Referencias:\n",
    "- link para o paper: https://arxiv.org/pdf/1706.03762.pdf"
   ]
  },
  {
   "cell_type": "markdown",
   "metadata": {},
   "source": [
    "Primeiro passo é entender o conceito de similiaridade entre tokens e a representação do token o tal de \"embedding\""
   ]
  },
  {
   "cell_type": "code",
   "execution_count": null,
   "metadata": {},
   "outputs": [],
   "source": [
    "%pip install numpy\n",
    "%pip install torch\n",
    "%pip install scikit-learn\n",
    "%pip install matplotlib"
   ]
  },
  {
   "cell_type": "code",
   "execution_count": 1,
   "metadata": {},
   "outputs": [],
   "source": [
    "import torch\n",
    "import torch.nn.functional as F\n",
    "import torch.nn as nn\n",
    "from sklearn.manifold import TSNE\n",
    "import matplotlib.pyplot as plt\n",
    "\n",
    "# Checa se tem device NVIDIA ou MPS (mac gpu)\n",
    "if(torch.cuda.is_available()):\n",
    "    device = torch.device(\"cuda\")\n",
    "else:\n",
    "    device = torch.device(\"mps\") if torch.backends.mps.is_available() else torch.device(\"cpu\")\n",
    "\n",
    "# simplificar a visualização dos tensores\n",
    "device = torch.device(\"cpu\")\n",
    "\n",
    "torch.set_default_device(device)"
   ]
  },
  {
   "cell_type": "markdown",
   "metadata": {},
   "source": [
    "Primeiro vamos entender o que é Vocabulario, Token, Embedding:\n",
    "\n",
    "<img src=\"https://arize.com/wp-content/uploads/2022/06/blog-king-queen-embeddings.jpg\">\n"
   ]
  },
  {
   "cell_type": "code",
   "execution_count": 2,
   "metadata": {},
   "outputs": [],
   "source": [
    "# criar nosso tokenizador\n",
    "\n",
    "vocabulario = {\n",
    "    0: \"chocolate\",\n",
    "    1: \"carne\",\n",
    "    2: \"arroz\",\n",
    "    3: \"caminhonete\",\n",
    "    4: \"pickup\",\n",
    "    5: \"carro\"\n",
    "}\n",
    "\n",
    "# nosso espaco vetorial que ira representar o significado das palavras foi definico com 4 dimensoes []\n",
    "# durante o treinamento nossa rede neural aprendeu:\n",
    "# o que cada dimensao representa no significado de todas as palavras do vocabulario\n",
    "embedding = {\n",
    "    0: \"comida\",\n",
    "    1: \"sabor\",\n",
    "    2: \"veiculo\",\n",
    "    3: \"carga\"\n",
    "}\n",
    "\n",
    "# para cada token no nosso vocabulario temos um vetor de embedding\n",
    "# o valores deste vetor foram aprendidos durante o treinamento da rede neural\n",
    "vocab_to_emb = {\n",
    "\n",
    "    # chocolate..:              comida, sabor, veiculo, carga\n",
    "    0          : torch.tensor([ 1.0   , 0.9  , 0.1    , 0.1  ]),\n",
    "\n",
    "    # carne......:              comida, sabor, veiculo, carga\n",
    "    1          : torch.tensor([ 1.0   , 0.8  , 0.01   , 0.01 ]),\n",
    "\n",
    "    # arroz......:              comida, sabor, veiculo, carga\n",
    "    2          : torch.tensor([ 1.0   , 0.7  , 0.01   , 0.01 ]),\n",
    "\n",
    "    # caminhonete:              comida, sabor, veiculo, carga\n",
    "    3          : torch.tensor([ 0.01  , 0.01 , 1.0    , 0.6 ]),\n",
    "\n",
    "    # pickup.....:              comida, sabor, veiculo, carga\n",
    "    4          : torch.tensor([ 0.01  , 0.01 , 1.0    , 0.5 ]),\n",
    "\n",
    "    # carro......:              comida, sabor, veiculo, carga\n",
    "    5          : torch.tensor([ 0.1   , 0.1  , 1.0    , 0.4 ])\n",
    "\n",
    "}"
   ]
  },
  {
   "cell_type": "code",
   "execution_count": 74,
   "metadata": {},
   "outputs": [
    {
     "name": "stdout",
     "output_type": "stream",
     "text": [
      "[[-118.410286  185.81895 ]\n",
      " [-108.26642   190.1955  ]\n",
      " [-101.61034   193.06862 ]\n",
      " [ 134.79817  -118.14217 ]\n",
      " [ 134.39478  -125.3808  ]\n",
      " [ 133.77992  -136.41135 ]]\n"
     ]
    },
    {
     "data": {
      "image/png": "[encoded data removed]",
      "text/plain": [
       "<Figure size 640x480 with 1 Axes>"
      ]
     },
     "metadata": {},
     "output_type": "display_data"
    }
   ],
   "source": [
    "def plotar_tokens(vocabulario, vocab_to_emb, add=None, name=\"\"):\n",
    "    tensor_list = list(vocab_to_emb.values())\n",
    "    if(add is not None):\n",
    "        tensor_list.append(add)\n",
    "    \n",
    "    emb = torch.stack(tensor_list)\n",
    "\n",
    "    # criar uma instancia do TSNE\n",
    "    tsne = TSNE(n_components=2, perplexity=1)\n",
    "\n",
    "    # Aplicar o TSNE ao vetor original\n",
    "    emb_dimensao_reduzida = tsne.fit_transform(emb.cpu())\n",
    "    print(emb_dimensao_reduzida)\n",
    "\n",
    "    for token_id, token_emb in vocab_to_emb.items():\n",
    "        # plotar o vetor reduzido (x, y)\n",
    "        plt.scatter(emb_dimensao_reduzida[token_id][0], emb_dimensao_reduzida[token_id][1], label=vocabulario[token_id])\n",
    "    \n",
    "    if(add is not None):\n",
    "        plt.scatter(emb_dimensao_reduzida[-1][0], emb_dimensao_reduzida[-1][1], label=name)\n",
    "\n",
    "    # Definir rótulos dos eixos x e y\n",
    "    plt.xlabel('Eixo X')\n",
    "    plt.ylabel('Eixo Y')\n",
    "    plt.legend()\n",
    "\n",
    "    # Exibir o gráfico\n",
    "    plt.show()\n",
    "\n",
    "plotar_tokens(vocabulario, vocab_to_emb)"
   ]
  },
  {
   "cell_type": "markdown",
   "metadata": {},
   "source": [
    "Como Calcular distancia ou similiaridade entre vetores:\n",
    "\n",
    "- Euclidian Distance<br>\n",
    "<img src=\"./img/euclidian.png\" alt=\"euclidian\" width=\"20%\" height=\"20%\">\n",
    "\n",
    "- Dot Product Similarity<br>\n",
    "<img src=\"./img/euclidian.png\" alt=\"euclidian\" width=\"20%\" height=\"20%\">\n",
    "\n",
    "- Consine Similarity<br>\n",
    "<img src=\"./img/euclidian.png\" alt=\"euclidian\" width=\"20%\" height=\"20%\">\n",
    "1.0 = \"0 grau\" | 0.0 = \"90 grau\" | -1 = \"180 grau\""
   ]
  },
  {
   "cell_type": "code",
   "execution_count": 4,
   "metadata": {},
   "outputs": [
    {
     "name": "stdout",
     "output_type": "stream",
     "text": [
      "Distancia euclidiana: quanto menor mais proximo\n",
      "Distancia euclidiana entre chocolate e chocolate..:  tensor(0.)\n",
      "Distancia euclidiana entre chocolate e carne......:  tensor(0.1619)\n",
      "Distancia euclidiana entre chocolate e arroz......:  tensor(0.2371)\n",
      "Distancia euclidiana entre chocolate e caminhonete:  tensor(1.6829)\n",
      "Distancia euclidiana entre chocolate e pickup.....:  tensor(1.6560)\n",
      "Distancia euclidiana entre chocolate e carro......:  tensor(1.5330)\n",
      "\n",
      "Similiaridade dot_product: quanto maior mais similar\n",
      "Similiaridade dot_product entre chocolate e chocolate..:  tensor(1.8300)\n",
      "Similiaridade dot_product entre chocolate e carne......:  tensor(1.7220)\n",
      "Similiaridade dot_product entre chocolate e arroz......:  tensor(1.6320)\n",
      "Similiaridade dot_product entre chocolate e caminhonete:  tensor(0.1790)\n",
      "Similiaridade dot_product entre chocolate e pickup.....:  tensor(0.1690)\n",
      "Similiaridade dot_product entre chocolate e carro......:  tensor(0.3300)\n",
      "\n",
      "Similiaridade coseno: quanto maior mais similar\n",
      "Similiaridade coseno entre chocolate e chocolate..:  tensor(1.0000)\n",
      "Similiaridade coseno entre chocolate e carne......:  tensor(0.9939)\n",
      "Similiaridade coseno entre chocolate e arroz......:  tensor(0.9883)\n",
      "Similiaridade coseno entre chocolate e caminhonete:  tensor(0.1135)\n",
      "Similiaridade coseno entre chocolate e pickup.....:  tensor(0.1117)\n",
      "Similiaridade coseno entre chocolate e carro......:  tensor(0.2246)\n"
     ]
    }
   ],
   "source": [
    "def euclidian_distance(a, b):\n",
    "    return torch.sqrt(torch.sum((a - b) ** 2))\n",
    "\n",
    "def dot_product_similarity(a, b):\n",
    "    return torch.dot(a, b)\n",
    "\n",
    "def cosine_similarity(a, b):\n",
    "    return torch.dot(a, b) / (torch.norm(a) * torch.norm(b))\n",
    "\n",
    "print(\"Distancia euclidiana: quanto menor mais proximo\")\n",
    "print(\"Distancia euclidiana entre chocolate e chocolate..: \", euclidian_distance(vocab_to_emb[0], vocab_to_emb[0])) \n",
    "print(\"Distancia euclidiana entre chocolate e carne......: \", euclidian_distance(vocab_to_emb[0], vocab_to_emb[1])) \n",
    "print(\"Distancia euclidiana entre chocolate e arroz......: \", euclidian_distance(vocab_to_emb[0], vocab_to_emb[2]))\n",
    "print(\"Distancia euclidiana entre chocolate e caminhonete: \", euclidian_distance(vocab_to_emb[0], vocab_to_emb[3]))\n",
    "print(\"Distancia euclidiana entre chocolate e pickup.....: \", euclidian_distance(vocab_to_emb[0], vocab_to_emb[4]))\n",
    "print(\"Distancia euclidiana entre chocolate e carro......: \", euclidian_distance(vocab_to_emb[0], vocab_to_emb[5]))\n",
    "print()\n",
    "print(\"Similiaridade dot_product: quanto maior mais similar\")\n",
    "print(\"Similiaridade dot_product entre chocolate e chocolate..: \", dot_product_similarity(vocab_to_emb[0], vocab_to_emb[0])) \n",
    "print(\"Similiaridade dot_product entre chocolate e carne......: \", dot_product_similarity(vocab_to_emb[0], vocab_to_emb[1])) \n",
    "print(\"Similiaridade dot_product entre chocolate e arroz......: \", dot_product_similarity(vocab_to_emb[0], vocab_to_emb[2]))\n",
    "print(\"Similiaridade dot_product entre chocolate e caminhonete: \", dot_product_similarity(vocab_to_emb[0], vocab_to_emb[3]))\n",
    "print(\"Similiaridade dot_product entre chocolate e pickup.....: \", dot_product_similarity(vocab_to_emb[0], vocab_to_emb[4]))\n",
    "print(\"Similiaridade dot_product entre chocolate e carro......: \", dot_product_similarity(vocab_to_emb[0], vocab_to_emb[5]))\n",
    "print()\n",
    "print(\"Similiaridade coseno: quanto maior mais similar\")\n",
    "print(\"Similiaridade coseno entre chocolate e chocolate..: \", cosine_similarity(vocab_to_emb[0], vocab_to_emb[0])) \n",
    "print(\"Similiaridade coseno entre chocolate e carne......: \", cosine_similarity(vocab_to_emb[0], vocab_to_emb[1])) \n",
    "print(\"Similiaridade coseno entre chocolate e arroz......: \", cosine_similarity(vocab_to_emb[0], vocab_to_emb[2]))\n",
    "print(\"Similiaridade coseno entre chocolate e caminhonete: \", cosine_similarity(vocab_to_emb[0], vocab_to_emb[3]))\n",
    "print(\"Similiaridade coseno entre chocolate e pickup.....: \", cosine_similarity(vocab_to_emb[0], vocab_to_emb[4]))\n",
    "print(\"Similiaridade coseno entre chocolate e carro......: \", cosine_similarity(vocab_to_emb[0], vocab_to_emb[5]))\n"
   ]
  },
  {
   "cell_type": "markdown",
   "metadata": {},
   "source": [
    "Agora vamos entender como a arquitetura do decoder do transforme funciona para prever o proximo token\n",
    "Primeiro passo é entender o mecanismo de self-attention:\n",
    " - Vou explicar de um modo siplificado, a idéia aqui é entender a intuição por traz do mecanismo de self-attention\n",
    "\n",
    "<img src=\"./img/self-attention.png\" alt=\"Self-Attention\" width=\"60%\" height=\"60%\">\n",
    "\n",
    "Neste exemplo iremos mostrar como o cruzamento de tokens acontece e como isto afeta a previsao da próxima palavra\n",
    "\n",
    "Bom vamos cruzar estes 2 tokens:\n",
    "carro + chocolate\n",
    "\n",
    "![imagem](https://st2.depositphotos.com/1362337/10378/i/380/depositphotos_103789698-stock-photo-little-chocolate-retro-pickup-truck.jpg)\n",
    "\n",
    "Neste exemplo não estamos adicionando os pesos treinaveis para simplicar o entendimento"
   ]
  },
  {
   "cell_type": "code",
   "execution_count": 12,
   "metadata": {},
   "outputs": [
    {
     "name": "stdout",
     "output_type": "stream",
     "text": [
      "token sequence: 'carro chocolate'\n",
      "query[chocolate]:\n",
      "tensor([0.1000, 0.1000, 1.0000, 0.4000])\n",
      "Ultimo token da sequencia\n",
      "\n",
      "keys[carro, chocolate]:\n",
      "tensor([[1.0000, 0.9000, 0.1000, 0.1000],\n",
      "        [0.1000, 0.1000, 1.0000, 0.4000]])\n",
      "\n",
      "values[carro, chocolate]:\n",
      "tensor([[1.0000, 0.9000, 0.1000, 0.1000],\n",
      "        [0.1000, 0.1000, 1.0000, 0.4000]])\n",
      "\n"
     ]
    }
   ],
   "source": [
    "# tokens\n",
    "# token: id: 0, value: chocolate\n",
    "# token: id: 5, value: carro\n",
    "emb_chocolate = vocab_to_emb[0]\n",
    "emb_carro = vocab_to_emb[5]\n",
    "\n",
    "# sequencia = carro + chocolate\n",
    "# query =  [chocolate] (ultimo token)\n",
    "query = emb_carro\n",
    "\n",
    "# keys = [carro, chocolate]\n",
    "keys = torch.stack((emb_chocolate,emb_carro))\n",
    "\n",
    "# values = [carro, chocolate]\n",
    "values = torch.stack((emb_chocolate,emb_carro))\n",
    "\n",
    "print(f\"token sequence: 'carro chocolate'\")\n",
    "print(f\"query[chocolate]:\\n{query}\\nUltimo token da sequencia\\n\")\n",
    "print(f\"keys[carro, chocolate]:\\n{keys}\\n\")\n",
    "print(f\"values[carro, chocolate]:\\n{values}\\n\")\n",
    "\n",
    "plotar_tokens(vocabulario, vocab_to_emb)\n"
   ]
  },
  {
   "cell_type": "markdown",
   "metadata": {},
   "source": [
    "# Dot Product\n",
    "\n",
    "<img src=\"./img/dotproductvisual.png\" alt=\"dot product\" width=\"20%\" height=\"20%\">\n"
   ]
  },
  {
   "cell_type": "code",
   "execution_count": 90,
   "metadata": {},
   "outputs": [
    {
     "name": "stdout",
     "output_type": "stream",
     "text": [
      "---------- query: chocolate -> key/value: chocolate ---------- \n",
      "query..: tensor([0.1000, 0.1000, 1.0000, 0.4000])\n",
      "keys...: tensor([0.1000, 0.1000, 1.0000, 0.4000])\n",
      "q*k....: tensor([0.0100, 0.0100, 1.0000, 0.1600])\n",
      "soma...: 1.1799999475479126\n",
      "\n",
      "---------- query: chocolate -> key/value: carro ---------- \n",
      "query..: tensor([0.1000, 0.1000, 1.0000, 0.4000])\n",
      "keys...: tensor([1.0000, 0.9000, 0.1000, 0.1000])\n",
      "q*k....: tensor([0.1000, 0.0900, 0.1000, 0.0400])\n",
      "soma...: 0.32999998331069946\n",
      "\n",
      "---------- softmax [chocolate_chocolate, chocolate_carro] ---------- \n",
      "scores.: tensor([0.7006, 0.2994])\n",
      "\n",
      "---------- vetores_de_saida_contextualizado (parciais: % de cada token) ---------- \n",
      "chocolate................: tensor([0.1000, 0.1000, 1.0000, 0.4000])\n",
      "multiplicado_por.........: 0.7005671858787537\n",
      "saida_chocolate_chocolate: tensor([0.0701, 0.0701, 0.7006, 0.2802])\n",
      "\n",
      "carro....................: tensor([1.0000, 0.9000, 0.1000, 0.1000])\n",
      "multiplicado_por.........: 0.2994329035282135\n",
      "saida_chocolate_carro....: tensor([0.2994, 0.2695, 0.0299, 0.0299])\n",
      "\n",
      "---------- vetor_de_saida_contextualizado (final: soma das parciais) ---------- \n",
      "saida_chocolate_chocolate (parcial): tensor([0.0701, 0.0701, 0.7006, 0.2802])\n",
      "saida_chocolate_carro.....(parcial): tensor([0.2994, 0.2695, 0.0299, 0.0299])\n",
      "Vetor contextualizado.....(final)..: tensor([0.3695, 0.3395, 0.7305, 0.3102])\n",
      "Embedding..........................:        [comida, sabor, veiculo, carga]\n"
     ]
    }
   ],
   "source": [
    "# Embeddings\n",
    "# keys[0] = emb_chocolate\n",
    "# keys[1] = emb_carro\n",
    "\n",
    "# values[0] = emb_chocolate\n",
    "# values[1] = emb_carro\n",
    "\n",
    "print(\"---------- query: chocolate -> key/value: chocolate ---------- \")\n",
    "print(f\"query..: {query}\\nkeys...: {keys[1]}\")\n",
    "\n",
    "score_chocolate_chocolate = query * keys[1] # query = chocolate & keys[1] = chocolate\n",
    "print(f\"q*k....: {score_chocolate_chocolate}\")\n",
    "\n",
    "score_chocolate_chocolate = torch.sum(score_chocolate_chocolate)\n",
    "print(f\"soma...: {score_chocolate_chocolate}\")\n",
    "\n",
    "print(\"\\n---------- query: chocolate -> key/value: carro ---------- \")\n",
    "print(f\"query..: {query}\\nkeys...: {keys[0]}\")\n",
    "\n",
    "score_chocolate_carro = query * keys[0] # query = chocolate & keys[0] = carro\n",
    "print(f\"q*k....: {score_chocolate_carro}\")\n",
    "\n",
    "score_chocolate_carro = torch.sum(score_chocolate_carro)\n",
    "print(f\"soma...: {score_chocolate_carro}\")\n",
    "\n",
    "print(\"\\n---------- softmax [chocolate_chocolate, chocolate_carro] ---------- \")\n",
    "scores = F.softmax(torch.stack((score_chocolate_chocolate, score_chocolate_carro)), dim=0)\n",
    "print(f\"scores.: {scores}\")\n",
    "\n",
    "print(\"\\n---------- vetores_de_saida_contextualizado (parciais: % de cada token) ---------- \")\n",
    "\n",
    "saida_chocolate_chocolate = scores[0] * values[1] # scores[0] = chocolate_chocolate * value[1] = chocolate\n",
    "print(f\"chocolate................: {values[1]}\")\n",
    "print(f\"multiplicado_por.........: {scores[0]}\")\n",
    "print(f\"saida_chocolate_chocolate: {saida_chocolate_chocolate}\")\n",
    "\n",
    "print()\n",
    "\n",
    "saida_chocolate_carro = scores[1] * values[0] # scores[1] = chocolate_carro * value[0] = carro\n",
    "print(f\"carro....................: {values[0]}\")\n",
    "print(f\"multiplicado_por.........: {scores[1]}\")\n",
    "print(f\"saida_chocolate_carro....: {saida_chocolate_carro}\")\n",
    "\n",
    "print(\"\\n---------- vetor_de_saida_contextualizado (final: soma das parciais) ---------- \")\n",
    "print(f\"saida_chocolate_chocolate (parcial): {saida_chocolate_chocolate}\")\n",
    "print(f\"saida_chocolate_carro.....(parcial): {saida_chocolate_carro}\")\n",
    "vetor_contextualizado = saida_chocolate_chocolate + saida_chocolate_carro\n",
    "print(f\"Vetor contextualizado.....(final)..: {vetor_contextualizado}\")\n",
    "print(\"Embedding..........................:        [comida, sabor, veiculo, carga]\")\n"
   ]
  },
  {
   "cell_type": "code",
   "execution_count": 101,
   "metadata": {},
   "outputs": [
    {
     "name": "stdout",
     "output_type": "stream",
     "text": [
      "\n",
      "---------- Simulando a aplicação de pesos treinados ---------- \n",
      "Embedding.............................:        [comida, sabor, veiculo, carga]\n",
      "Vetor contextualizado.....(final).....: tensor([0.3695, 0.3395, 0.7305, 0.3102])\n",
      "Pesos para multiplica.................: tensor([2.0000, 2.2000, 0.6000, 0.0100])\n",
      "Saida modelo para 'carro + chocolate'.: tensor([0.7390, 0.7470, 0.4383, 0.0031])\n"
     ]
    }
   ],
   "source": [
    "print(\"\\n---------- Simulando a aplicação de pesos treinados ---------- \")\n",
    "print(\"Embedding.............................:        [comida, sabor, veiculo, carga]\")\n",
    "print(f\"Vetor contextualizado.....(final).....: {vetor_contextualizado}\")\n",
    "pesos = torch.tensor([2.0, 2.2, 0.6, 0.01])\n",
    "print(f\"Pesos para multiplica.................: {pesos}\")\n",
    "\n",
    "saida_modelo = vetor_contextualizado * pesos\n",
    "print(f\"Saida modelo para 'carro + chocolate'.: {saida_modelo}\")"
   ]
  },
  {
   "cell_type": "markdown",
   "metadata": {},
   "source": [
    "# Entendo como o Decoder do Transformer trata uma sequencia de tokens para prever o proximo\n",
    "\n",
    "Para a sequencia de tokens:\n",
    "carro chocolate\n",
    "\n",
    "Agora temos a representacao mais contextualizada para o ultimo token \"chocolate\".\n",
    "- onde a nova composicao é basicamente:\n",
    "    - 30% do token carro\n",
    "    - 70% do token chocolate\n",
    "\n",
    "No exemplo anterior, apenas calculamos a saida do vetor contextualizado do ultimo token \"chocolate\" na sequencia \"carro chocolate\"\n",
    "\n",
    "Vamos agora explorar um exemplo de uma sequencia de tokens com processamento completo\n",
    "Imagine nossa rede neural agora com o seguinte vocabulario:\n",
    "- [eu, dei, racao, pro, meu, gato, cachorro, peixe]\n",
    "\n",
    "E estamos passando pelo decoder uma sequencia de tokens como esta:\n",
    "- eu dei racao pro meu\n",
    "\n",
    "Teremos os seguintes vetores de saida (S):\n",
    "- S0 = eu                   -> query: eu    -> (eu    x eu   )\n",
    "- S1 = eu dei               -> query: dei   -> (dei   x dei  ), (dei   x eu   )\n",
    "- S2 = eu dei racao         -> query: racao -> (racao x racao), (racao x dei  ), (racao x eu   )\n",
    "- S3 = eu dei racao pro     -> query: pro   -> (pro   x pro  ), (pro   x racao), (pro   x dei  ), (pro x eu )\n",
    "- S4 = eu dei racao pro meu -> query: meu   -> (meu   x meu  ), (meu   x pro  ), (meu   x racao), (meu x dei), (meu x eu)\n",
    "\n",
    "A rede neural utiliza este contexto para prever o proximo token, sendo basicamente a cada passada na rede um vetor do vocabulario com a probabilidade do proximo token:\n",
    "- Exemplo para o primeiro token\n",
    "    - Vetores de saida (contexto) -> probabilidade do proximo token (previsao)\n",
    "    - S0 -> usado para prever T1\n",
    "        - [eu......: 0.01]\n",
    "        - [dei.....: 0.93]\n",
    "        - [racao...: 0.01]\n",
    "        - [pro.....: 0.01]\n",
    "        - [meu.....: 0.01]\n",
    "        - [gato....: 0.01]\n",
    "        - [cachorro: 0.01]\n",
    "        - [peixe...: 0.01]\n",
    "\n",
    "- S1 ... S3 -> [...] ... [...]\n",
    "\n",
    "- Exemplo para o ultimo token: \"eu dei racao pro meu ...\"\n",
    "    - S4 -> usado para prever T5\n",
    "    - [eu......: 0.01]\n",
    "    - [dei.....: 0.01]\n",
    "    - [racao...: 0.01]\n",
    "    - [pro.....: 0.01]\n",
    "    - [meu.....: 0.01]\n",
    "    - [gato....: 0.35]\n",
    "    - [cachorro: 0.40]\n",
    "    - [peixe...: 0.20]\n"
   ]
  },
  {
   "cell_type": "markdown",
   "metadata": {},
   "source": [
    "# Prevendo o proximo token\n"
   ]
  },
  {
   "cell_type": "code",
   "execution_count": 1,
   "metadata": {},
   "outputs": [
    {
     "name": "stdout",
     "output_type": "stream",
     "text": [
      "{0: 'eu', 1: 'dei', 2: 'racao', 3: 'pro', 4: 'meu', 5: 'gato', 6: 'cachorro', 7: 'peixe'}\n",
      "\n",
      "Camada Linear que reduz de embedding_size para vocab_size\n",
      "Linear(in_features=15, out_features=8, bias=True)\n"
     ]
    }
   ],
   "source": [
    "import torch\n",
    "import torch.nn as nn\n",
    "import torch.optim as optim\n",
    "torch.manual_seed(0)\n",
    "\n",
    "# Gerando a camada final que converte Sx em probabilidades de proximo token\n",
    "\n",
    "vocabulario = {0: \"eu\", 1: \"dei\", 2: \"racao\", 3: \"pro\", 4: \"meu\", 5: \"gato\", 6: \"cachorro\", 7: \"peixe\"}\n",
    "vocab_size = len(vocabulario) # len == 8 -> [eu, dei, racao, pro, meu, gato, cachorro, peixe]\n",
    "embedding_size = 15 # tamanho da dimensao que contem a representação do token\n",
    "num_tokens = 1\n",
    "\n",
    "print(vocabulario)\n",
    "print()\n",
    "\n",
    "# Saida da camada transformer: para S4 (token \"meu\" contextualizado com \"eu + dei + racao + pro + meu\")\n",
    "# sequencia de tokens: \"eu  dei racao pro meu\" [next token]\n",
    "# sequencia de tokens: \"[0] [1] [2]   [3] [4]\" [next token]\n",
    "\n",
    "saida_decoder = torch.rand(num_tokens, embedding_size) # exemplo de uma saida da camada transformer para S4\n",
    "\n",
    "# Definindo a camada linear para redução de dimensionalidade\n",
    "# de embedding size para vocab size\n",
    "camada_linear_final = nn.Linear(embedding_size, vocab_size)\n",
    "print(\"Camada Linear que reduz de embedding_size para vocab_size\")\n",
    "print(camada_linear_final)\n",
    "\n",
    "\n",
    "# Setando dados para treinamento:\n",
    "\n",
    "# Definindo a função de perda\n",
    "criterion = nn.CrossEntropyLoss()\n",
    "\n",
    "# Definindo o otimizador\n",
    "optimizer = optim.Adam(camada_linear_final.parameters(), lr=0.01)"
   ]
  },
  {
   "cell_type": "markdown",
   "metadata": {},
   "source": [
    "# Forward pass"
   ]
  },
  {
   "cell_type": "code",
   "execution_count": 10,
   "metadata": {},
   "outputs": [
    {
     "name": "stdout",
     "output_type": "stream",
     "text": [
      "\n",
      "Logits: gerado com base no tamanho do vocab size\n",
      "tensor([[-0.0424, -0.2821,  0.0872,  0.2097, -0.0489, -0.0543,  0.2985, -0.4141]],\n",
      "       grad_fn=<AddmmBackward0>)\n",
      "\n",
      "Probabilidade\n",
      "tensor([[0.1206, 0.0949, 0.1373, 0.1552, 0.1199, 0.1192, 0.1696, 0.0832]],\n",
      "       grad_fn=<SoftmaxBackward0>)\n",
      "\n",
      "-------------------------------------------\n",
      "eu dei racao pro meu [next token]\n",
      "Token previsto: 6 -> cachorro\n",
      "Token correto.: 6 -> cachorro\n"
     ]
    }
   ],
   "source": [
    "# Passando pelo modelo (camada final de output)\n",
    "# Gerando logits\n",
    "logits = camada_linear_final(saida_decoder)\n",
    "print(\"\\nLogits: gerado com base no tamanho do vocab size\")\n",
    "print(logits)\n",
    "\n",
    "# Aplicando a softmax para obter probabilidades\n",
    "probabilidade = nn.Softmax(dim=1)(logits)\n",
    "print(\"\\nProbabilidade\")\n",
    "print(probabilidade)\n",
    "print()\n",
    "\n",
    "# Obtendo os índices máximos (índices de vocabulário) para cada token\n",
    "token_indice_previsto = torch.argmax(probabilidade, dim=1).item()\n",
    "\n",
    "print(\"-------------------------------------------\")\n",
    "print(\"eu dei racao pro meu [next token]\")\n",
    "print(f\"Token previsto: {token_indice_previsto} -> {vocabulario[token_indice_previsto]}\")\n",
    "\n",
    "# definir targets\n",
    "target = torch.tensor([6])\n",
    "print(f\"Token correto.: {target.item()} -> {vocabulario[target.item()]}\")"
   ]
  },
  {
   "cell_type": "markdown",
   "metadata": {},
   "source": [
    "# Treinando o Modelo de predicao"
   ]
  },
  {
   "cell_type": "code",
   "execution_count": 9,
   "metadata": {},
   "outputs": [
    {
     "name": "stdout",
     "output_type": "stream",
     "text": [
      "Loss: 1.893663763999939\n"
     ]
    }
   ],
   "source": [
    "# Cálculo da loss\n",
    "loss = criterion(logits, target)\n",
    "\n",
    "# Backpropagation\n",
    "optimizer.zero_grad() # Zera os gradientes acumulados\n",
    "loss.backward()      # Calcula os gradientes\n",
    "optimizer.step()     # Atualiza os pesos\n",
    "\n",
    "print(\"Loss:\", loss.item())"
   ]
  },
  {
   "cell_type": "markdown",
   "metadata": {},
   "source": [
    "# Camada Linear manual"
   ]
  },
  {
   "cell_type": "code",
   "execution_count": 26,
   "metadata": {},
   "outputs": [
    {
     "name": "stdout",
     "output_type": "stream",
     "text": [
      "Entrada do modelo:\n",
      "tensor([[[ 0.5161,  0.1998, -0.2533,  0.4222],\n",
      "         [ 0.8155,  0.7504, -0.5165,  0.5845]]])\n",
      "torch.Size([1, 2, 4])\n",
      "\n",
      "Pesos do modelo:\n",
      "tensor([[ 1.0184, -0.4169, -0.0308, -1.4795],\n",
      "        [-0.4946,  0.3732,  1.7536, -1.3083],\n",
      "        [-0.2934,  0.4649,  0.5762,  0.4427],\n",
      "        [-0.0079, -0.3447,  0.0216,  0.2976],\n",
      "        [ 1.4353,  0.2518,  0.7408,  1.4431],\n",
      "        [-0.2053,  1.0915,  0.4405, -0.2802],\n",
      "        [ 0.7029, -0.6675,  0.1254,  0.7900],\n",
      "        [-0.0095, -0.8578,  0.2134,  1.6378]])\n",
      "torch.Size([8, 4])\n",
      "\n",
      "Bias do modelo:\n",
      "tensor([-1.4582])\n",
      "torch.Size([1])\n"
     ]
    }
   ],
   "source": [
    "batch_size = 1\n",
    "seq_len = 2\n",
    "embedding_size = 4 # in_features\n",
    "out_features = embedding_size * 2 # out_features, escalando para 2x o tamanho do embedding\n",
    "\n",
    "x = torch.randn(batch_size,seq_len,embedding_size)\n",
    "pesos = torch.randn(out_features, embedding_size)\n",
    "bias = torch.randn(1)\n",
    "\n",
    "print(\"Entrada do modelo:\")\n",
    "print(x)\n",
    "print(x.size())\n",
    "print()\n",
    "print(\"Pesos do modelo:\")\n",
    "print(pesos)\n",
    "print(pesos.size())\n",
    "print()\n",
    "print(\"Bias do modelo:\")\n",
    "print(bias)\n",
    "print(bias.size())"
   ]
  },
  {
   "cell_type": "code",
   "execution_count": 31,
   "metadata": {},
   "outputs": [
    {
     "name": "stdout",
     "output_type": "stream",
     "text": [
      "\n",
      "x:\n",
      "tensor([[[ 0.5161,  0.1998, -0.2533,  0.4222],\n",
      "         [ 0.8155,  0.7504, -0.5165,  0.5845]]])\n",
      "torch.Size([1, 2, 4])\n",
      "\n",
      "Transposta pesos:\n",
      "tensor([[ 1.0184, -0.4946, -0.2934, -0.0079,  1.4353, -0.2053,  0.7029, -0.0095],\n",
      "        [-0.4169,  0.3732,  0.4649, -0.3447,  0.2518,  1.0915, -0.6675, -0.8578],\n",
      "        [-0.0308,  1.7536,  0.5762,  0.0216,  0.7408,  0.4405,  0.1254,  0.2134],\n",
      "        [-1.4795, -1.3083,  0.4427,  0.2976,  1.4431, -0.2802,  0.7900,  1.6378]])\n",
      "torch.Size([4, 8])\n",
      "\n",
      "saida:\n",
      "tensor([[[-0.1745, -1.1772, -0.0176,  0.0473,  1.2127, -0.1178,  0.5312,\n",
      "           0.4611],\n",
      "         [-0.3312, -1.7936,  0.0707, -0.1023,  1.8203,  0.2603,  0.4694,\n",
      "           0.1956]]])\n",
      "torch.Size([1, 2, 8])\n"
     ]
    }
   ],
   "source": [
    "transposta_pesos = pesos.transpose(0,1)\n",
    "print()\n",
    "print(\"x:\")\n",
    "print(x)\n",
    "print(x.size())\n",
    "print()\n",
    "print(\"Transposta pesos:\")\n",
    "print(transposta_pesos)\n",
    "print(transposta_pesos.size())\n",
    "\n",
    "saida = x @ transposta_pesos\n",
    "\n",
    "print()\n",
    "print(\"saida:\")\n",
    "print(saida)\n",
    "print(saida.size())\n",
    "\n",
    "saida = saida + bias\n"
   ]
  },
  {
   "cell_type": "markdown",
   "metadata": {},
   "source": [
    "# Gerando um embedding de uma sentença\n",
    "\n",
    "No cenário onde temos um sentença\n",
    "\n",
    "\"eu sou bruno\"\n",
    "\n",
    "Token[0] T0: eu\n",
    "Token[1] T1: sou\n",
    "Token[2] T2: bruno\n",
    "\n",
    "Queremos salvar na vector db uma única sentença que representa o contexto semantico dos 3 tokens\n"
   ]
  },
  {
   "cell_type": "code",
   "execution_count": 35,
   "metadata": {},
   "outputs": [
    {
     "name": "stdout",
     "output_type": "stream",
     "text": [
      "tensor([[0.1000, 0.9000, 0.2000, 0.4000],\n",
      "        [0.2000, 0.1000, 0.8000, 0.7000],\n",
      "        [0.3000, 0.3000, 0.7000, 0.5000]])\n",
      "tensor([0.3000, 0.9000, 0.8000, 0.7000])\n",
      "tensor([0.2000, 0.4333, 0.5667, 0.5333])\n"
     ]
    }
   ],
   "source": [
    "# Saida do decoder\n",
    "S1 = torch.tensor([0.1, 0.9, 0.2, 0.4])\n",
    "S2 = torch.tensor([0.2, 0.1, 0.8, 0.7])\n",
    "S3 = torch.tensor([0.3, 0.3, 0.7, 0.5])\n",
    "sentence = torch.stack((S1, S2, S3))\n",
    "print(sentence)\n",
    "\n",
    "# Max Pooling\n",
    "max_pooling, _  = torch.max(sentence, dim=0)\n",
    "print(max_pooling)\n",
    "\n",
    "# Mean Pooling\n",
    "mean_pooling = torch.mean(sentence, dim=0)\n",
    "print(mean_pooling)\n",
    "\n"
   ]
  }
 ],
 "metadata": {
  "kernelspec": {
   "display_name": "Python 3",
   "language": "python",
   "name": "python3"
  },
  "language_info": {
   "codemirror_mode": {
    "name": "ipython",
    "version": 3
   },
   "file_extension": ".py",
   "mimetype": "text/x-python",
   "name": "python",
   "nbconvert_exporter": "python",
   "pygments_lexer": "ipython3",
   "version": "3.11.7"
  }
 },
 "nbformat": 4,
 "nbformat_minor": 2
}
