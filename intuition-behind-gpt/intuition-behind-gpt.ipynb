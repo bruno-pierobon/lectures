{
 "cells": [
  {
   "cell_type": "markdown",
   "metadata": {},
   "source": [
    "Intuição de como o GPT funciona internamente:\n",
    "\n",
    "A arquitetura do gpt tem como base o decoder da arquitetura transformer, lado direito da imagem abaixo:\n",
    "\n",
    "<img src=\"https://miro.medium.com/v2/resize:fit:1400/1*Jwataw7ZYsHU0XvDA-jVqQ.png\" alt=\"Transformer\" width=\"70%\" height=\"70%\">\n",
    "\n",
    "O fato do GPT usar o decoder somente, é devido ao foco do GPT prever o próximo token apenas cruzando o ultimo token com todos os anteriores exatamente como o decoder faz.\n",
    "\n",
    "Para quem não esta por dentro do termo token, imagine os tokens como uma palavrao que é digitada pelo usuário na pergunta e cada palavra que é gerada na resposta pelo GPT.\n",
    "\n",
    "Cada token tem um id unico em um vocabulario de palavras.\n",
    "\n",
    "Na pratica vc defini o que é um token, ele pode ser uma subword como no GPT, exemplo para formar a palavra casamento poderia ser a junção de dois tokens (casa + mento), ou poderiamos ter um vocabulario estremamente simples e enxuto com apenas as letras do alfabeto + numeros + caracteres especiais, neste caso para escrever casamento seriam 9 tokens (c,a,s,a,m,e,n,t,o)\n",
    "\n",
    "Referencias:\n",
    "- link para o paper: https://arxiv.org/pdf/1706.03762.pdf"
   ]
  },
  {
   "cell_type": "markdown",
   "metadata": {},
   "source": [
    "Primeiro passo é entender o conceito de similiaridade entre tokens e a representação do token o tal de \"embedding\""
   ]
  },
  {
   "cell_type": "code",
   "execution_count": null,
   "metadata": {},
   "outputs": [],
   "source": [
    "%pip install numpy\n",
    "%pip install torch\n",
    "%pip install scikit-learn\n",
    "%pip install matplotlib"
   ]
  },
  {
   "cell_type": "code",
   "execution_count": 1,
   "metadata": {},
   "outputs": [],
   "source": [
    "import torch\n",
    "import torch.nn.functional as F\n",
    "import torch.nn as nn \n",
    "from sklearn.manifold import TSNE\n",
    "import matplotlib.pyplot as plt\n",
    "\n",
    "# Checa se tem device NVIDIA ou MPS (mac gpu)\n",
    "if(torch.cuda.is_available()):\n",
    "    device = torch.device(\"cuda\")\n",
    "else:\n",
    "    device = torch.device(\"mps\") if torch.backends.mps.is_available() else torch.device(\"cpu\")\n",
    "\n",
    "# simplificar a visualização dos tensores\n",
    "device = torch.device(\"cpu\")\n",
    "\n",
    "torch.set_default_device(device)"
   ]
  },
  {
   "cell_type": "markdown",
   "metadata": {},
   "source": [
    "Primeiro vamos entender o que é Vocabulario, Token, Embedding:\n",
    "\n",
    "<img src=\"https://arize.com/wp-content/uploads/2022/06/blog-king-queen-embeddings.jpg\">\n"
   ]
  },
  {
   "cell_type": "code",
   "execution_count": 2,
   "metadata": {},
   "outputs": [],
   "source": [
    "# criar nosso tokenizador\n",
    "\n",
    "vocabulario = {\n",
    "    0: \"chocolate\",\n",
    "    1: \"carne\",\n",
    "    2: \"arroz\",\n",
    "    3: \"caminhonete\",\n",
    "    4: \"pickup\",\n",
    "    5: \"carro\"\n",
    "}\n",
    "\n",
    "# nosso espaco vetorial que ira representar o significado das palavras foi definico com 4 dimensoes []\n",
    "# durante o treinamento nossa rede neural aprendeu:\n",
    "# o que cada dimensao representa no significado de todas as palavras do vocabulario\n",
    "embedding = {\n",
    "    0: \"comida\",\n",
    "    1: \"sabor\",\n",
    "    2: \"veiculo\",\n",
    "    3: \"carga\"\n",
    "}\n",
    "\n",
    "# para cada token no nosso vocabulario temos um vetor de embedding\n",
    "# o valores deste vetor foram aprendidos durante o treinamento da rede neural\n",
    "vocab_to_emb = {\n",
    "\n",
    "    # chocolate..:              comida, sabor, veiculo, carga\n",
    "    0          : torch.tensor([ 1.0   , 0.9  , 0.1    , 0.1  ]),\n",
    "\n",
    "    # carne......:              comida, sabor, veiculo, carga\n",
    "    1          : torch.tensor([ 1.0   , 0.8  , 0.01   , 0.01 ]),\n",
    "\n",
    "    # arroz......:              comida, sabor, veiculo, carga\n",
    "    2          : torch.tensor([ 1.0   , 0.7  , 0.01   , 0.01 ]),\n",
    "\n",
    "    # caminhonete:              comida, sabor, veiculo, carga\n",
    "    3          : torch.tensor([ 0.01  , 0.01 , 1.0    , 0.6 ]),\n",
    "\n",
    "    # pickup.....:              comida, sabor, veiculo, carga\n",
    "    4          : torch.tensor([ 0.01  , 0.01 , 1.0    , 0.5 ]),\n",
    "\n",
    "    # carro......:              comida, sabor, veiculo, carga\n",
    "    5          : torch.tensor([ 0.1   , 0.1  , 1.0    , 0.4 ])\n",
    "\n",
    "}"
   ]
  },
  {
   "cell_type": "code",
   "execution_count": 3,
   "metadata": {},
   "outputs": [
    {
     "name": "stdout",
     "output_type": "stream",
     "text": [
      "[[  27.951864  182.95364 ]\n",
      " [  17.963614  180.58101 ]\n",
      " [  11.414934  179.02614 ]\n",
      " [ -17.572168 -151.5126  ]\n",
      " [ -18.135914 -158.21904 ]\n",
      " [ -18.995995 -168.44951 ]]\n"
     ]
    },
    {
     "data": {
      "image/png": "[encoded data removed]",
      "text/plain": [
       "<Figure size 640x480 with 1 Axes>"
      ]
     },
     "metadata": {},
     "output_type": "display_data"
    }
   ],
   "source": [
    "def plotar_tokens(vocabulario, vocab_to_emb, add=None, name=\"\"):\n",
    "    tensor_list = list(vocab_to_emb.values())\n",
    "    if(add is not None):\n",
    "        tensor_list.append(add)\n",
    "    \n",
    "    emb = torch.stack(tensor_list)\n",
    "\n",
    "    # criar uma instancia do TSNE\n",
    "    tsne = TSNE(n_components=2, perplexity=1)\n",
    "\n",
    "    # Aplicar o TSNE ao vetor original\n",
    "    emb_dimensao_reduzida = tsne.fit_transform(emb.cpu())\n",
    "    print(emb_dimensao_reduzida)\n",
    "\n",
    "    for token_id, token_emb in vocab_to_emb.items():\n",
    "        # plotar o vetor reduzido (x, y)\n",
    "        plt.scatter(emb_dimensao_reduzida[token_id][0], emb_dimensao_reduzida[token_id][1], label=vocabulario[token_id])\n",
    "    \n",
    "    if(add is not None):\n",
    "        plt.scatter(emb_dimensao_reduzida[-1][0], emb_dimensao_reduzida[-1][1], label=name)\n",
    "\n",
    "    # Definir rótulos dos eixos x e y\n",
    "    plt.xlabel('Eixo X')\n",
    "    plt.ylabel('Eixo Y')\n",
    "    plt.legend()\n",
    "\n",
    "    # Exibir o gráfico\n",
    "    plt.show()\n",
    "\n",
    "plotar_tokens(vocabulario, vocab_to_emb)"
   ]
  },
  {
   "cell_type": "markdown",
   "metadata": {},
   "source": [
    "Como Calcular distancia ou similiaridade entre vetores:\n",
    "\n",
    "- Euclidian Distance<br>\n",
    "<img src=\"./img/euclidian.png\" alt=\"euclidian\" width=\"20%\" height=\"20%\">\n",
    "\n",
    "- Dot Product Similarity<br>\n",
    "<img src=\"./img/euclidian.png\" alt=\"euclidian\" width=\"20%\" height=\"20%\">\n",
    "\n",
    "- Consine Similarity<br>\n",
    "<img src=\"./img/euclidian.png\" alt=\"euclidian\" width=\"20%\" height=\"20%\">\n",
    "1.0 = \"0 grau\" | 0.0 = \"90 grau\" | -1 = \"180 grau\""
   ]
  },
  {
   "cell_type": "code",
   "execution_count": 4,
   "metadata": {},
   "outputs": [
    {
     "name": "stdout",
     "output_type": "stream",
     "text": [
      "Distancia euclidiana: quanto menor mais proximo\n",
      "Distancia euclidiana entre chocolate e chocolate..:  tensor(0.)\n",
      "Distancia euclidiana entre chocolate e carne......:  tensor(0.1619)\n",
      "Distancia euclidiana entre chocolate e arroz......:  tensor(0.2371)\n",
      "Distancia euclidiana entre chocolate e caminhonete:  tensor(1.6829)\n",
      "Distancia euclidiana entre chocolate e pickup.....:  tensor(1.6560)\n",
      "Distancia euclidiana entre chocolate e carro......:  tensor(1.5330)\n",
      "\n",
      "Similiaridade dot_product: quanto maior mais similar\n",
      "Similiaridade dot_product entre chocolate e chocolate..:  tensor(1.8300)\n",
      "Similiaridade dot_product entre chocolate e carne......:  tensor(1.7220)\n",
      "Similiaridade dot_product entre chocolate e arroz......:  tensor(1.6320)\n",
      "Similiaridade dot_product entre chocolate e caminhonete:  tensor(0.1790)\n",
      "Similiaridade dot_product entre chocolate e pickup.....:  tensor(0.1690)\n",
      "Similiaridade dot_product entre chocolate e carro......:  tensor(0.3300)\n",
      "\n",
      "Similiaridade coseno: quanto maior mais similar\n",
      "Similiaridade coseno entre chocolate e chocolate..:  tensor(1.0000)\n",
      "Similiaridade coseno entre chocolate e carne......:  tensor(0.9939)\n",
      "Similiaridade coseno entre chocolate e arroz......:  tensor(0.9883)\n",
      "Similiaridade coseno entre chocolate e caminhonete:  tensor(0.1135)\n",
      "Similiaridade coseno entre chocolate e pickup.....:  tensor(0.1117)\n",
      "Similiaridade coseno entre chocolate e carro......:  tensor(0.2246)\n"
     ]
    }
   ],
   "source": [
    "def euclidian_distance(a, b):\n",
    "    return torch.sqrt(torch.sum((a - b) ** 2))\n",
    "\n",
    "def dot_product_similarity(a, b):\n",
    "    return torch.dot(a, b)\n",
    "\n",
    "def cosine_similarity(a, b):\n",
    "    return torch.dot(a, b) / (torch.norm(a) * torch.norm(b))\n",
    "\n",
    "print(\"Distancia euclidiana: quanto menor mais proximo\")\n",
    "print(\"Distancia euclidiana entre chocolate e chocolate..: \", euclidian_distance(vocab_to_emb[0], vocab_to_emb[0])) \n",
    "print(\"Distancia euclidiana entre chocolate e carne......: \", euclidian_distance(vocab_to_emb[0], vocab_to_emb[1])) \n",
    "print(\"Distancia euclidiana entre chocolate e arroz......: \", euclidian_distance(vocab_to_emb[0], vocab_to_emb[2]))\n",
    "print(\"Distancia euclidiana entre chocolate e caminhonete: \", euclidian_distance(vocab_to_emb[0], vocab_to_emb[3]))\n",
    "print(\"Distancia euclidiana entre chocolate e pickup.....: \", euclidian_distance(vocab_to_emb[0], vocab_to_emb[4]))\n",
    "print(\"Distancia euclidiana entre chocolate e carro......: \", euclidian_distance(vocab_to_emb[0], vocab_to_emb[5]))\n",
    "print()\n",
    "print(\"Similiaridade dot_product: quanto maior mais similar\")\n",
    "print(\"Similiaridade dot_product entre chocolate e chocolate..: \", dot_product_similarity(vocab_to_emb[0], vocab_to_emb[0])) \n",
    "print(\"Similiaridade dot_product entre chocolate e carne......: \", dot_product_similarity(vocab_to_emb[0], vocab_to_emb[1])) \n",
    "print(\"Similiaridade dot_product entre chocolate e arroz......: \", dot_product_similarity(vocab_to_emb[0], vocab_to_emb[2]))\n",
    "print(\"Similiaridade dot_product entre chocolate e caminhonete: \", dot_product_similarity(vocab_to_emb[0], vocab_to_emb[3]))\n",
    "print(\"Similiaridade dot_product entre chocolate e pickup.....: \", dot_product_similarity(vocab_to_emb[0], vocab_to_emb[4]))\n",
    "print(\"Similiaridade dot_product entre chocolate e carro......: \", dot_product_similarity(vocab_to_emb[0], vocab_to_emb[5]))\n",
    "print()\n",
    "print(\"Similiaridade coseno: quanto maior mais similar\")\n",
    "print(\"Similiaridade coseno entre chocolate e chocolate..: \", cosine_similarity(vocab_to_emb[0], vocab_to_emb[0])) \n",
    "print(\"Similiaridade coseno entre chocolate e carne......: \", cosine_similarity(vocab_to_emb[0], vocab_to_emb[1])) \n",
    "print(\"Similiaridade coseno entre chocolate e arroz......: \", cosine_similarity(vocab_to_emb[0], vocab_to_emb[2]))\n",
    "print(\"Similiaridade coseno entre chocolate e caminhonete: \", cosine_similarity(vocab_to_emb[0], vocab_to_emb[3]))\n",
    "print(\"Similiaridade coseno entre chocolate e pickup.....: \", cosine_similarity(vocab_to_emb[0], vocab_to_emb[4]))\n",
    "print(\"Similiaridade coseno entre chocolate e carro......: \", cosine_similarity(vocab_to_emb[0], vocab_to_emb[5]))\n"
   ]
  },
  {
   "cell_type": "markdown",
   "metadata": {},
   "source": [
    "Agora vamos entender como a arquitetura do decoder do transforme funciona para prever o proximo token\n",
    "Primeiro passo é entender o mecanismo de self-attention:\n",
    " - Vou explicar de um modo siplificado, a idéia aqui é entender a intuição por traz do mecanismo de self-attention\n",
    "\n",
    "<img src=\"./img/self-attention.png\" alt=\"Self-Attention\" width=\"60%\" height=\"60%\">\n",
    "\n",
    "Neste exemplo iremos mostrar como o cruzamento de tokens acontece e como isto afeta a previsao da próxima palavra\n",
    "\n",
    "Bom vamos cruzar estes 2 tokens:\n",
    "carro + chocolate\n",
    "\n",
    "![imagem](https://st2.depositphotos.com/1362337/10378/i/380/depositphotos_103789698-stock-photo-little-chocolate-retro-pickup-truck.jpg)\n",
    "\n",
    "Neste exemplo não estamos adicionando os pesos treinaveis para simplicar o entendimento"
   ]
  },
  {
   "cell_type": "code",
   "execution_count": 7,
   "metadata": {},
   "outputs": [
    {
     "name": "stdout",
     "output_type": "stream",
     "text": [
      "token sequence: 'carro chocolate'\n",
      "query[chocolate]:\n",
      "tensor([1.0000, 0.9000, 0.1000, 0.1000])\n",
      "Ultimo token da sequencia\n",
      "\n",
      "keys[carro, chocolate]:\n",
      "tensor([[0.1000, 0.1000, 1.0000, 0.4000],\n",
      "        [1.0000, 0.9000, 0.1000, 0.1000]])\n",
      "\n",
      "values[carro, chocolate]:\n",
      "tensor([[0.1000, 0.1000, 1.0000, 0.4000],\n",
      "        [1.0000, 0.9000, 0.1000, 0.1000]])\n",
      "\n"
     ]
    }
   ],
   "source": [
    "# tokens\n",
    "# token: id: 0, value: chocolate\n",
    "# token: id: 5, value: carro\n",
    "emb_chocolate = vocab_to_emb[0]\n",
    "emb_carro = vocab_to_emb[5]\n",
    "\n",
    "# sequencia = carro + chocolate\n",
    "# query =  [chocolate] (ultimo token)\n",
    "query = emb_chocolate\n",
    "\n",
    "# keys = [carro, chocolate]\n",
    "keys = torch.stack((emb_carro, emb_chocolate))\n",
    "\n",
    "# values = [carro, chocolate]\n",
    "values = torch.stack((emb_carro, emb_chocolate))\n",
    "\n",
    "print(f\"token sequence: 'carro chocolate'\")\n",
    "print(f\"query[chocolate]:\\n{query}\\nUltimo token da sequencia\\n\")\n",
    "print(f\"keys[carro, chocolate]:\\n{keys}\\n\")\n",
    "print(f\"values[carro, chocolate]:\\n{values}\\n\")"
   ]
  },
  {
   "cell_type": "markdown",
   "metadata": {},
   "source": [
    "# Dot Product\n",
    "\n",
    "<img src=\"./img/dotproductvisual.png\" alt=\"dot product\" width=\"20%\" height=\"20%\">\n"
   ]
  },
  {
   "cell_type": "code",
   "execution_count": 8,
   "metadata": {},
   "outputs": [
    {
     "name": "stdout",
     "output_type": "stream",
     "text": [
      "---------- query: chocolate -> key/value: chocolate ---------- \n",
      "query..: tensor([1.0000, 0.9000, 0.1000, 0.1000])\n",
      "keys...: tensor([1.0000, 0.9000, 0.1000, 0.1000])\n",
      "q*k....: tensor([1.0000, 0.8100, 0.0100, 0.0100])\n",
      "soma...: 1.8299999237060547\n",
      "\n",
      "---------- query: chocolate -> key/value: carro ---------- \n",
      "query..: tensor([1.0000, 0.9000, 0.1000, 0.1000])\n",
      "keys...: tensor([0.1000, 0.1000, 1.0000, 0.4000])\n",
      "q*k....: tensor([0.1000, 0.0900, 0.1000, 0.0400])\n",
      "soma...: 0.32999998331069946\n",
      "\n",
      "---------- softmax [chocolate_chocolate, chocolate_carro] ---------- \n",
      "scores.: tensor([0.8176, 0.1824])\n",
      "\n",
      "---------- vetores_de_saida_contextualizado (parciais: % de cada token) ---------- \n",
      "chocolate................: tensor([1.0000, 0.9000, 0.1000, 0.1000])\n",
      "multiplicado_por.........: 0.8175744414329529\n",
      "saida_chocolate_chocolate: tensor([0.8176, 0.7358, 0.0818, 0.0818])\n",
      "\n",
      "carro....................: tensor([0.1000, 0.1000, 1.0000, 0.4000])\n",
      "multiplicado_por.........: 0.18242551386356354\n",
      "saida_chocolate_carro....: tensor([0.0182, 0.0182, 0.1824, 0.0730])\n",
      "\n",
      "---------- vetor_de_saida_contextualizado (final: soma das parciais) ---------- \n",
      "saida_chocolate_chocolate (parcial): tensor([0.8176, 0.7358, 0.0818, 0.0818])\n",
      "saida_chocolate_carro.....(parcial): tensor([0.0182, 0.0182, 0.1824, 0.0730])\n",
      "Vetor contextualizado.....(final)..: tensor([0.8358, 0.7541, 0.2642, 0.1547])\n",
      "Embedding..........................:        [comida, sabor, veiculo, carga]\n"
     ]
    }
   ],
   "source": [
    "# Embeddings\n",
    "# keys[1] = emb_chocolate\n",
    "# keys[0] = emb_carro\n",
    "\n",
    "# values[1] = emb_chocolate\n",
    "# values[0] = emb_carro\n",
    "\n",
    "print(\"---------- query: chocolate -> key/value: chocolate ---------- \")\n",
    "print(f\"query..: {query}\\nkeys...: {keys[1]}\")\n",
    "\n",
    "score_chocolate_chocolate = query * keys[1] # query = chocolate & keys[1] = chocolate\n",
    "print(f\"q*k....: {score_chocolate_chocolate}\")\n",
    "\n",
    "score_chocolate_chocolate = torch.sum(score_chocolate_chocolate)\n",
    "print(f\"soma...: {score_chocolate_chocolate}\")\n",
    "\n",
    "print(\"\\n---------- query: chocolate -> key/value: carro ---------- \")\n",
    "print(f\"query..: {query}\\nkeys...: {keys[0]}\")\n",
    "\n",
    "score_chocolate_carro = query * keys[0] # query = chocolate & keys[0] = carro\n",
    "print(f\"q*k....: {score_chocolate_carro}\")\n",
    "\n",
    "score_chocolate_carro = torch.sum(score_chocolate_carro)\n",
    "print(f\"soma...: {score_chocolate_carro}\")\n",
    "\n",
    "print(\"\\n---------- softmax [chocolate_chocolate, chocolate_carro] ---------- \")\n",
    "scores = F.softmax(torch.stack((score_chocolate_chocolate, score_chocolate_carro)), dim=0)\n",
    "print(f\"scores.: {scores}\")\n",
    "\n",
    "print(\"\\n---------- vetores_de_saida_contextualizado (parciais: % de cada token) ---------- \")\n",
    "\n",
    "saida_chocolate_chocolate = scores[0] * values[1] # scores[0] = chocolate_chocolate * value[1] = chocolate\n",
    "print(f\"chocolate................: {values[1]}\")\n",
    "print(f\"multiplicado_por.........: {scores[0]}\")\n",
    "print(f\"saida_chocolate_chocolate: {saida_chocolate_chocolate}\")\n",
    "\n",
    "print()\n",
    "\n",
    "saida_chocolate_carro = scores[1] * values[0] # scores[1] = chocolate_carro * value[0] = carro\n",
    "print(f\"carro....................: {values[0]}\")\n",
    "print(f\"multiplicado_por.........: {scores[1]}\")\n",
    "print(f\"saida_chocolate_carro....: {saida_chocolate_carro}\")\n",
    "\n",
    "print(\"\\n---------- vetor_de_saida_contextualizado (final: soma das parciais) ---------- \")\n",
    "print(f\"saida_chocolate_chocolate (parcial): {saida_chocolate_chocolate}\")\n",
    "print(f\"saida_chocolate_carro.....(parcial): {saida_chocolate_carro}\")\n",
    "vetor_contextualizado = saida_chocolate_chocolate + saida_chocolate_carro\n",
    "print(f\"Vetor contextualizado.....(final)..: {vetor_contextualizado}\")\n",
    "print(\"Embedding..........................:        [comida, sabor, veiculo, carga]\")\n"
   ]
  },
  {
   "cell_type": "code",
   "execution_count": 13,
   "metadata": {},
   "outputs": [
    {
     "name": "stdout",
     "output_type": "stream",
     "text": [
      "\n",
      "---------- Simulando a aplicação de pesos treinados ---------- \n",
      "Embedding.............................:        [comida, sabor, veiculo, carga]\n",
      "Vetor contextualizado.....(final).....: tensor([0.8358, 0.7541, 0.2642, 0.1547])\n",
      "Pesos para multiplica.................: tensor([1.0000, 1.0000, 1.8000, 0.1000])\n",
      "Saida modelo para 'carro + chocolate'.: tensor([0.8358, 0.7541, 0.4755, 0.0155])\n"
     ]
    }
   ],
   "source": [
    "print(\"\\n---------- Simulando a aplicação de pesos treinados ---------- \")\n",
    "print(\"Embedding.............................:        [comida, sabor, veiculo, carga]\")\n",
    "print(f\"Vetor contextualizado.....(final).....: {vetor_contextualizado}\")\n",
    "pesos = torch.tensor([1.0, 1.0, 1.8, 0.1])\n",
    "print(f\"Pesos para multiplica.................: {pesos}\")\n",
    "\n",
    "saida_modelo = vetor_contextualizado * pesos\n",
    "print(f\"Saida modelo para 'carro + chocolate'.: {saida_modelo}\")"
   ]
  },
  {
   "cell_type": "markdown",
   "metadata": {},
   "source": [
    "# Entendo como o Decoder do Transformer trata uma sequencia de tokens para prever o proximo\n",
    "\n",
    "Para a sequencia de tokens:\n",
    "carro chocolate\n",
    "\n",
    "Agora temos a representacao mais contextualizada para o ultimo token \"chocolate\".\n",
    "- onde a nova composicao é basicamente:\n",
    "    - 30% do token carro\n",
    "    - 70% do token chocolate\n",
    "\n",
    "No exemplo anterior, apenas calculamos a saida do vetor contextualizado do ultimo token \"chocolate\" na sequencia \"carro chocolate\"\n",
    "\n",
    "Vamos agora explorar um exemplo de uma sequencia de tokens com processamento completo\n",
    "Imagine nossa rede neural agora com o seguinte vocabulario:\n",
    "- [eu, dei, racao, pro, meu, gato, cachorro, peixe]\n",
    "\n",
    "E estamos passando pelo decoder uma sequencia de tokens como esta:\n",
    "- eu dei racao pro meu\n",
    "\n",
    "Teremos os seguintes vetores de saida (S):\n",
    "- S0 = eu                   -> query: eu    -> (eu    x eu   )\n",
    "- S1 = eu dei               -> query: dei   -> (dei   x dei  ), (dei   x eu   )\n",
    "- S2 = eu dei racao         -> query: racao -> (racao x racao), (racao x dei  ), (racao x eu   )\n",
    "- S3 = eu dei racao pro     -> query: pro   -> (pro   x pro  ), (pro   x racao), (pro   x dei  ), (pro x eu )\n",
    "- S4 = eu dei racao pro meu -> query: meu   -> (meu   x meu  ), (meu   x pro  ), (meu   x racao), (meu x dei), (meu x eu)\n",
    "\n",
    "A rede neural utiliza este contexto para prever o proximo token, sendo basicamente a cada passada na rede um vetor do vocabulario com a probabilidade do proximo token:\n",
    "- Exemplo para o primeiro token\n",
    "    - Vetores de saida (contexto) -> probabilidade do proximo token (previsao)\n",
    "    - S0 -> usado para prever T1\n",
    "        - [eu......: 0.01]\n",
    "        - [dei.....: 0.93]\n",
    "        - [racao...: 0.01]\n",
    "        - [pro.....: 0.01]\n",
    "        - [meu.....: 0.01]\n",
    "        - [gato....: 0.01]\n",
    "        - [cachorro: 0.01]\n",
    "        - [peixe...: 0.01]\n",
    "\n",
    "- S1 ... S3 -> [...] ... [...]\n",
    "\n",
    "- Exemplo para o ultimo token: \"eu dei racao pro meu ...\"\n",
    "    - S4 -> usado para prever T5\n",
    "    - [eu......: 0.01]\n",
    "    - [dei.....: 0.01]\n",
    "    - [racao...: 0.01]\n",
    "    - [pro.....: 0.01]\n",
    "    - [meu.....: 0.01]\n",
    "    - [gato....: 0.35]\n",
    "    - [cachorro: 0.40]\n",
    "    - [peixe...: 0.20]\n"
   ]
  },
  {
   "cell_type": "markdown",
   "metadata": {},
   "source": [
    "# Prevendo o proximo token\n"
   ]
  },
  {
   "cell_type": "code",
   "execution_count": 16,
   "metadata": {},
   "outputs": [
    {
     "name": "stdout",
     "output_type": "stream",
     "text": [
      "{0: 'eu', 1: 'dei', 2: 'racao', 3: 'pro', 4: 'meu', 5: 'gato', 6: 'cachorro', 7: 'peixe'}\n",
      "\n",
      "Camada Linear que reduz de embedding_size para vocab_size\n",
      "Linear(in_features=15, out_features=8, bias=True)\n"
     ]
    }
   ],
   "source": [
    "import torch\n",
    "import torch.nn as nn\n",
    "import torch.optim as optim\n",
    "torch.manual_seed(0)\n",
    "\n",
    "# Gerando a camada final que converte Sx em probabilidades de proximo token\n",
    "\n",
    "vocabulario = {0: \"eu\", 1: \"dei\", 2: \"racao\", 3: \"pro\", 4: \"meu\", 5: \"gato\", 6: \"cachorro\", 7: \"peixe\"}\n",
    "vocab_size = len(vocabulario) # len == 8 -> [eu, dei, racao, pro, meu, gato, cachorro, peixe]\n",
    "embedding_size = 15 # tamanho da dimensao que contem a representação do token\n",
    "num_tokens = 1\n",
    "\n",
    "print(vocabulario)\n",
    "print()\n",
    "\n",
    "# Saida da camada transformer: para S4 (token \"meu\" contextualizado com \"eu + dei + racao + pro + meu\")\n",
    "# sequencia de tokens: \"eu  dei racao pro meu\" [next token]\n",
    "# sequencia de tokens: \"[0] [1] [2]   [3] [4]\" [next token]\n",
    "\n",
    "saida_decoder = torch.rand(num_tokens, embedding_size) # exemplo de uma saida da camada transformer para S4\n",
    "\n",
    "# Definindo a camada linear para redução de dimensionalidade\n",
    "# de embedding size para vocab size\n",
    "camada_linear_final = nn.Linear(embedding_size, vocab_size)\n",
    "print(\"Camada Linear que reduz de embedding_size para vocab_size\")\n",
    "print(camada_linear_final)\n",
    "\n",
    "\n",
    "# Setando dados para treinamento:\n",
    "\n",
    "# Definindo a função de perda\n",
    "criterion = nn.CrossEntropyLoss()\n",
    "\n",
    "# Definindo o otimizador\n",
    "optimizer = optim.Adam(camada_linear_final.parameters(), lr=0.01)"
   ]
  },
  {
   "cell_type": "markdown",
   "metadata": {},
   "source": [
    "# Forward pass"
   ]
  },
  {
   "cell_type": "code",
   "execution_count": 25,
   "metadata": {},
   "outputs": [
    {
     "name": "stdout",
     "output_type": "stream",
     "text": [
      "\n",
      "Logits: gerado com base no tamanho do vocab size\n",
      "tensor([[-0.0424, -0.2821,  0.0872,  0.2097, -0.0489, -0.0543,  0.2985, -0.4141]],\n",
      "       grad_fn=<AddmmBackward0>)\n",
      "\n",
      "Probabilidade\n",
      "tensor([[0.1206, 0.0949, 0.1373, 0.1552, 0.1199, 0.1192, 0.1696, 0.0832]],\n",
      "       grad_fn=<SoftmaxBackward0>)\n",
      "\n",
      "-------------------------------------------\n",
      "eu dei racao pro meu [next token]\n",
      "Token previsto: 6 -> cachorro\n",
      "Token correto.: 6 -> cachorro\n"
     ]
    }
   ],
   "source": [
    "# Passando pelo modelo (camada final de output)\n",
    "# Gerando logits\n",
    "logits = camada_linear_final(saida_decoder)\n",
    "print(\"\\nLogits: gerado com base no tamanho do vocab size\")\n",
    "print(logits)\n",
    "\n",
    "# Aplicando a softmax para obter probabilidades\n",
    "probabilidade = nn.Softmax(dim=1)(logits)\n",
    "print(\"\\nProbabilidade\")\n",
    "print(probabilidade)\n",
    "print()\n",
    "\n",
    "# Obtendo os índices máximos (índices de vocabulário) para cada token\n",
    "token_indice_previsto = torch.argmax(probabilidade, dim=1).item()\n",
    "\n",
    "print(\"-------------------------------------------\")\n",
    "print(\"eu dei racao pro meu [next token]\")\n",
    "print(f\"Token previsto: {token_indice_previsto} -> {vocabulario[token_indice_previsto]}\")\n",
    "\n",
    "# definir targets\n",
    "target = torch.tensor([6])\n",
    "print(f\"Token correto.: {target.item()} -> {vocabulario[target.item()]}\")"
   ]
  },
  {
   "cell_type": "markdown",
   "metadata": {},
   "source": [
    "# Treinando o Modelo de predicao"
   ]
  },
  {
   "cell_type": "code",
   "execution_count": 24,
   "metadata": {},
   "outputs": [
    {
     "name": "stdout",
     "output_type": "stream",
     "text": [
      "Loss: 1.893663763999939\n"
     ]
    }
   ],
   "source": [
    "# Cálculo da loss\n",
    "loss = criterion(logits, target)\n",
    "\n",
    "# Backpropagation\n",
    "optimizer.zero_grad() # Zera os gradientes acumulados\n",
    "loss.backward()      # Calcula os gradientes\n",
    "optimizer.step()     # Atualiza os pesos\n",
    "\n",
    "print(\"Loss:\", loss.item())"
   ]
  },
  {
   "cell_type": "markdown",
   "metadata": {},
   "source": [
    "# Camada Linear manual"
   ]
  },
  {
   "cell_type": "code",
   "execution_count": 26,
   "metadata": {},
   "outputs": [
    {
     "name": "stdout",
     "output_type": "stream",
     "text": [
      "Entrada do modelo:\n",
      "tensor([[[-0.1143, -0.4537,  2.3055, -0.3790],\n",
      "         [-0.4669, -0.4609,  1.2652,  1.5746]]])\n",
      "torch.Size([1, 2, 4])\n",
      "\n",
      "Pesos do modelo:\n",
      "tensor([[-0.3173,  0.9671, -0.9911,  0.3016],\n",
      "        [-0.1073,  0.9985, -0.4987,  0.7611],\n",
      "        [-0.7777,  0.3140,  0.2133, -0.1201],\n",
      "        [ 0.3605, -0.3140, -1.0787,  0.2408],\n",
      "        [-1.1773, -0.0661, -0.3584, -1.5616],\n",
      "        [-0.3546,  1.0811,  0.1315,  1.5735],\n",
      "        [-1.4154, -1.0787, -0.7209,  1.4708],\n",
      "        [ 0.2756,  0.6668, -0.9944, -1.1894]])\n",
      "torch.Size([8, 4])\n",
      "\n",
      "Bias do modelo:\n",
      "tensor([-0.0515])\n",
      "torch.Size([1])\n"
     ]
    }
   ],
   "source": [
    "batch_size = 1\n",
    "seq_len = 2\n",
    "embedding_size = 4 # in_features\n",
    "out_features = embedding_size * 2 # out_features, escalando para 2x o tamanho do embedding\n",
    "\n",
    "x = torch.randn(batch_size,seq_len,embedding_size)\n",
    "pesos = torch.randn(out_features, embedding_size)\n",
    "bias = torch.randn(1)\n",
    "\n",
    "print(\"Entrada do modelo:\")\n",
    "print(x)\n",
    "print(x.size())\n",
    "print()\n",
    "print(\"Pesos do modelo:\")\n",
    "print(pesos)\n",
    "print(pesos.size())\n",
    "print()\n",
    "print(\"Bias do modelo:\")\n",
    "print(bias)\n",
    "print(bias.size())"
   ]
  },
  {
   "cell_type": "code",
   "execution_count": 27,
   "metadata": {},
   "outputs": [
    {
     "name": "stdout",
     "output_type": "stream",
     "text": [
      "\n",
      "x:\n",
      "tensor([[[-0.1143, -0.4537,  2.3055, -0.3790],\n",
      "         [-0.4669, -0.4609,  1.2652,  1.5746]]])\n",
      "torch.Size([1, 2, 4])\n",
      "\n",
      "Transposta pesos:\n",
      "tensor([[-0.3173, -0.1073, -0.7777,  0.3605, -1.1773, -0.3546, -1.4154,  0.2756],\n",
      "        [ 0.9671,  0.9985,  0.3140, -0.3140, -0.0661,  1.0811, -1.0787,  0.6668],\n",
      "        [-0.9911, -0.4987,  0.2133, -1.0787, -0.3584,  0.1315, -0.7209, -0.9944],\n",
      "        [ 0.3016,  0.7611, -0.1201,  0.2408, -1.5616,  1.5735,  1.4708, -1.1894]])\n",
      "torch.Size([4, 8])\n",
      "\n",
      "saida:\n",
      "tensor([[[-2.8018, -1.8790,  0.4838, -2.4770, -0.0698, -0.7432, -1.5682,\n",
      "          -2.1759],\n",
      "         [-1.0766,  0.1574,  0.2993, -1.0091, -2.3320,  2.3113,  2.5618,\n",
      "          -3.5668]]])\n",
      "torch.Size([1, 2, 8])\n"
     ]
    }
   ],
   "source": [
    "transposta_pesos = pesos.transpose(0,1)\n",
    "print()\n",
    "print(\"x:\")\n",
    "print(x)\n",
    "print(x.size())\n",
    "print()\n",
    "print(\"Transposta pesos:\")\n",
    "print(transposta_pesos)\n",
    "print(transposta_pesos.size())\n",
    "\n",
    "saida = x @ transposta_pesos\n",
    "\n",
    "print()\n",
    "print(\"saida:\")\n",
    "print(saida)\n",
    "print(saida.size())\n",
    "\n",
    "saida = saida + bias\n"
   ]
  },
  {
   "cell_type": "markdown",
   "metadata": {},
   "source": [
    "# Gerando um embedding de uma sentença\n",
    "\n",
    "No cenário onde temos um sentença\n",
    "\n",
    "\"eu sou bruno\"\n",
    "\n",
    "Token[0] T0: eu\n",
    "Token[1] T1: sou\n",
    "Token[2] T2: bruno\n",
    "\n",
    "Queremos salvar na vector db uma única sentença que representa o contexto semantico dos 3 tokens\n"
   ]
  },
  {
   "cell_type": "code",
   "execution_count": 28,
   "metadata": {},
   "outputs": [
    {
     "name": "stdout",
     "output_type": "stream",
     "text": [
      "tensor([[0.1000, 0.9000, 0.2000, 0.4000],\n",
      "        [0.2000, 0.1000, 0.8000, 0.7000],\n",
      "        [0.3000, 0.3000, 0.7000, 0.5000]])\n",
      "tensor([0.3000, 0.9000, 0.8000, 0.7000])\n",
      "tensor([0.2000, 0.4333, 0.5667, 0.5333])\n"
     ]
    }
   ],
   "source": [
    "# Saida do decoder\n",
    "S1 = torch.tensor([0.1, 0.9, 0.2, 0.4])\n",
    "S2 = torch.tensor([0.2, 0.1, 0.8, 0.7])\n",
    "S3 = torch.tensor([0.3, 0.3, 0.7, 0.5])\n",
    "sentence = torch.stack((S1, S2, S3))\n",
    "print(sentence)\n",
    "\n",
    "# Max Pooling\n",
    "max_pooling, _  = torch.max(sentence, dim=0)\n",
    "print(max_pooling)\n",
    "\n",
    "# Mean Pooling\n",
    "mean_pooling = torch.mean(sentence, dim=0)\n",
    "print(mean_pooling)\n",
    "\n"
   ]
  }
 ],
 "metadata": {
  "kernelspec": {
   "display_name": "Python 3",
   "language": "python",
   "name": "python3"
  },
  "language_info": {
   "codemirror_mode": {
    "name": "ipython",
    "version": 3
   },
   "file_extension": ".py",
   "mimetype": "text/x-python",
   "name": "python",
   "nbconvert_exporter": "python",
   "pygments_lexer": "ipython3",
   "version": "3.11.7"
  }
 },
 "nbformat": 4,
 "nbformat_minor": 2
}
