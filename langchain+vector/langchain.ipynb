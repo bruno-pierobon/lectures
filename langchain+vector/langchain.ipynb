{
 "cells": [
  {
   "cell_type": "code",
   "execution_count": null,
   "metadata": {},
   "outputs": [],
   "source": [
    "llm = ChatOpenAI(model=\"gpt-4\")\n",
    "# class that wraps another class and logs all function calls being executed \n",
    "class Wrapper:\n",
    "    def __init__(self, wrapped_class):\n",
    "        self.wrapped_class = wrapped_class\n",
    "\n",
    "    def __getattr__(self, attr):\n",
    "        original_func = getattr(self.wrapped_class, attr)\n",
    "\n",
    "        def wrapper(*args, **kwargs):\n",
    "            print(f\"Calling function: {attr}\")\n",
    "            print(f\"Arguments: {args}, {kwargs}\")\n",
    "            result = original_func(*args, **kwargs)\n",
    "            print(f\"Response: {result}\")\n",
    "            return result\n",
    "\n",
    "        return wrapper\n",
    "\n",
    "# overwrite the private `client` attribute inside of the LLM that contains the API client with our wrapped class\n",
    "llm.client = Wrapper(llm.client)"
   ]
  }
 ],
 "metadata": {
  "language_info": {
   "name": "python"
  }
 },
 "nbformat": 4,
 "nbformat_minor": 2
}
